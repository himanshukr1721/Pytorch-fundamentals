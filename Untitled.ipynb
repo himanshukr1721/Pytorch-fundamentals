{
 "cells": [
  {
   "cell_type": "markdown",
   "id": "5edb6bb6-a254-4724-a133-18fbe9edb3ee",
   "metadata": {},
   "source": [
    "## 00. Pytorch Fundamentals"
   ]
  },
  {
   "cell_type": "code",
   "execution_count": 5,
   "id": "58a82f12-55bb-4413-a278-220b2513e336",
   "metadata": {},
   "outputs": [
    {
     "name": "stdout",
     "output_type": "stream",
     "text": [
      "2.9.0+cu126\n"
     ]
    }
   ],
   "source": [
    "import torch\n",
    "import pandas as pd\n",
    "import numpy as np\n",
    "import matplotlib as plt\n",
    "\n",
    "print(torch.__version__)"
   ]
  },
  {
   "cell_type": "markdown",
   "id": "feec448a-8f55-403a-9411-8d754459fdad",
   "metadata": {},
   "source": [
    "## introduction to Tensors\n",
    "\n",
    "### creating Tensors"
   ]
  },
  {
   "cell_type": "code",
   "execution_count": 7,
   "id": "da9c1b6d-931d-42ad-b14b-f13ab41fe7cf",
   "metadata": {},
   "outputs": [
    {
     "data": {
      "text/plain": [
       "tensor(7)"
      ]
     },
     "execution_count": 7,
     "metadata": {},
     "output_type": "execute_result"
    }
   ],
   "source": [
    "#scaler\n",
    "scaler = torch.tensor(7)\n",
    "scaler"
   ]
  },
  {
   "cell_type": "code",
   "execution_count": 8,
   "id": "dfe028d7-9f6a-40b3-9e38-d7b507f0bf5b",
   "metadata": {},
   "outputs": [
    {
     "data": {
      "text/plain": [
       "0"
      ]
     },
     "execution_count": 8,
     "metadata": {},
     "output_type": "execute_result"
    }
   ],
   "source": [
    "scaler.ndim"
   ]
  },
  {
   "cell_type": "code",
   "execution_count": 9,
   "id": "59b26295-3138-439d-b29d-5d6feece893d",
   "metadata": {},
   "outputs": [
    {
     "data": {
      "text/plain": [
       "7"
      ]
     },
     "execution_count": 9,
     "metadata": {},
     "output_type": "execute_result"
    }
   ],
   "source": [
    "# get tensor back as Python list\n",
    "scaler.item()"
   ]
  },
  {
   "cell_type": "code",
   "execution_count": 12,
   "id": "4506a417-cba9-46f4-a1b4-c1d33f971bad",
   "metadata": {},
   "outputs": [
    {
     "data": {
      "text/plain": [
       "tensor([7, 7])"
      ]
     },
     "execution_count": 12,
     "metadata": {},
     "output_type": "execute_result"
    }
   ],
   "source": [
    "# Vector\n",
    "vector = torch.tensor([7,7])\n",
    "vector"
   ]
  },
  {
   "cell_type": "code",
   "execution_count": 13,
   "id": "cf6b4ade-8bfc-44de-a08a-8e7250e4abb5",
   "metadata": {},
   "outputs": [
    {
     "data": {
      "text/plain": [
       "1"
      ]
     },
     "execution_count": 13,
     "metadata": {},
     "output_type": "execute_result"
    }
   ],
   "source": [
    "vector.ndim"
   ]
  },
  {
   "cell_type": "code",
   "execution_count": 15,
   "id": "cebfec4f-220e-44c8-ab95-7622b9c40b87",
   "metadata": {},
   "outputs": [
    {
     "data": {
      "text/plain": [
       "torch.Size([2])"
      ]
     },
     "execution_count": 15,
     "metadata": {},
     "output_type": "execute_result"
    }
   ],
   "source": [
    "vector.shape"
   ]
  },
  {
   "cell_type": "code",
   "execution_count": 17,
   "id": "231516de-e720-4746-a81f-3cde75cc2240",
   "metadata": {},
   "outputs": [
    {
     "data": {
      "text/plain": [
       "tensor([[ 7,  8],\n",
       "        [ 9, 10]])"
      ]
     },
     "execution_count": 17,
     "metadata": {},
     "output_type": "execute_result"
    }
   ],
   "source": [
    "# MATRIX\n",
    "MATRIX = torch.tensor([[7, 8], [9, 10]])\n",
    "MATRIX"
   ]
  },
  {
   "cell_type": "code",
   "execution_count": 20,
   "id": "6b45fc0f-e338-4dc0-b760-07b4f76662ab",
   "metadata": {},
   "outputs": [
    {
     "data": {
      "text/plain": [
       "2"
      ]
     },
     "execution_count": 20,
     "metadata": {},
     "output_type": "execute_result"
    }
   ],
   "source": [
    "MATRIX.ndim\n"
   ]
  },
  {
   "cell_type": "code",
   "execution_count": 21,
   "id": "988fca09-2677-450e-8607-f1d0411d5ebe",
   "metadata": {},
   "outputs": [
    {
     "data": {
      "text/plain": [
       "torch.Size([2, 2])"
      ]
     },
     "execution_count": 21,
     "metadata": {},
     "output_type": "execute_result"
    }
   ],
   "source": [
    "MATRIX.shape"
   ]
  },
  {
   "cell_type": "code",
   "execution_count": 22,
   "id": "006d3760-0ca6-43df-82bc-da31b6d460a6",
   "metadata": {},
   "outputs": [
    {
     "data": {
      "text/plain": [
       "tensor([[[1, 2, 3],\n",
       "         [3, 4, 5],\n",
       "         [7, 8, 9]]])"
      ]
     },
     "execution_count": 22,
     "metadata": {},
     "output_type": "execute_result"
    }
   ],
   "source": [
    "# TENSOR\n",
    "\n",
    "TENSOR = torch.tensor([[[1,2,3], [3,4,5], [7,8,9]]])\n",
    "TENSOR"
   ]
  },
  {
   "cell_type": "code",
   "execution_count": 23,
   "id": "c31ec30e-701e-450c-8149-7fab90329fab",
   "metadata": {},
   "outputs": [
    {
     "data": {
      "text/plain": [
       "3"
      ]
     },
     "execution_count": 23,
     "metadata": {},
     "output_type": "execute_result"
    }
   ],
   "source": [
    "TENSOR.ndim"
   ]
  },
  {
   "cell_type": "code",
   "execution_count": 24,
   "id": "c2a0a811-5017-4de2-8fe6-34540f9cd359",
   "metadata": {},
   "outputs": [
    {
     "data": {
      "text/plain": [
       "torch.Size([1, 3, 3])"
      ]
     },
     "execution_count": 24,
     "metadata": {},
     "output_type": "execute_result"
    }
   ],
   "source": [
    "TENSOR.shape"
   ]
  },
  {
   "cell_type": "markdown",
   "id": "eecb9475-b791-4b6c-afa0-95be4e4824eb",
   "metadata": {},
   "source": [
    "# RANDOM TENSORS\n"
   ]
  },
  {
   "cell_type": "markdown",
   "id": "1f1120e4-423e-4825-a905-3a2b7ace5d80",
   "metadata": {},
   "source": [
    "### RANDOM TENSORS\n",
    "Important bcz the neural networks starts with random number and adjust those random numbers to represent the data in abetter way\n",
    "start with random number -> look at data -> update random numbers -> look at data -> update random number"
   ]
  },
  {
   "cell_type": "code",
   "execution_count": 36,
   "id": "55e35fc0-d38b-4fb7-9093-9a36fb00a682",
   "metadata": {},
   "outputs": [
    {
     "data": {
      "text/plain": [
       "tensor([[[0.3860, 0.7692, 0.2943, 0.3805, 0.5617, 0.7420, 0.8010, 0.4223,\n",
       "          0.0431, 0.2208],\n",
       "         [0.5228, 0.3927, 0.7629, 0.5735, 0.2210, 0.3206, 0.3875, 0.3190,\n",
       "          0.5950, 0.5135],\n",
       "         [0.4299, 0.6736, 0.0569, 0.7994, 0.8233, 0.4324, 0.4678, 0.2282,\n",
       "          0.8799, 0.9045],\n",
       "         [0.3236, 0.4952, 0.7387, 0.7424, 0.6829, 0.7999, 0.5293, 0.9129,\n",
       "          0.7126, 0.0450],\n",
       "         [0.2293, 0.3585, 0.6206, 0.9035, 0.1626, 0.4496, 0.2894, 0.0158,\n",
       "          0.6591, 0.5968],\n",
       "         [0.5651, 0.0450, 0.6108, 0.5817, 0.2409, 0.6613, 0.2667, 0.1012,\n",
       "          0.8217, 0.5398],\n",
       "         [0.9445, 0.0728, 0.6896, 0.9801, 0.7019, 0.9653, 0.5202, 0.7605,\n",
       "          0.1342, 0.2187],\n",
       "         [0.6964, 0.8695, 0.5595, 0.5231, 0.2086, 0.2176, 0.9991, 0.2696,\n",
       "          0.7087, 0.9863],\n",
       "         [0.9103, 0.6300, 0.7156, 0.5812, 0.3053, 0.8132, 0.1106, 0.4523,\n",
       "          0.1861, 0.7389],\n",
       "         [0.1466, 0.9620, 0.8992, 0.2494, 0.3831, 0.0325, 0.2516, 0.4583,\n",
       "          0.9343, 0.7401]],\n",
       "\n",
       "        [[0.1955, 0.0549, 0.7399, 0.2706, 0.5337, 0.8234, 0.4411, 0.4870,\n",
       "          0.1933, 0.1054],\n",
       "         [0.5348, 0.3551, 0.1332, 0.0293, 0.3018, 0.9759, 0.1974, 0.4175,\n",
       "          0.5102, 0.4791],\n",
       "         [0.4308, 0.0334, 0.6404, 0.5747, 0.1339, 0.2253, 0.6654, 0.7726,\n",
       "          0.3284, 0.7272],\n",
       "         [0.1547, 0.7230, 0.0755, 0.3331, 0.0982, 0.2275, 0.6686, 0.2025,\n",
       "          0.1135, 0.9772],\n",
       "         [0.5595, 0.7463, 0.7156, 0.3273, 0.4676, 0.2554, 0.2325, 0.0840,\n",
       "          0.3367, 0.6020],\n",
       "         [0.6215, 0.0686, 0.9716, 0.0831, 0.9989, 0.5155, 0.6462, 0.9851,\n",
       "          0.7735, 0.9498],\n",
       "         [0.7060, 0.6608, 0.0366, 0.5821, 0.1762, 0.7843, 0.5532, 0.8608,\n",
       "          0.3978, 0.5284],\n",
       "         [0.7785, 0.5857, 0.3000, 0.9056, 0.7955, 0.5276, 0.2300, 0.3839,\n",
       "          0.4296, 0.5989],\n",
       "         [0.4331, 0.8434, 0.5091, 0.1305, 0.7351, 0.2365, 0.2671, 0.8292,\n",
       "          0.1757, 0.7291],\n",
       "         [0.5619, 0.4190, 0.8373, 0.2385, 0.9584, 0.7676, 0.5515, 0.8778,\n",
       "          0.6659, 0.9541]],\n",
       "\n",
       "        [[0.5334, 0.4862, 0.7464, 0.0676, 0.4327, 0.8373, 0.1258, 0.1602,\n",
       "          0.6461, 0.3195],\n",
       "         [0.1837, 0.0050, 0.4668, 0.9886, 0.7269, 0.8192, 0.0538, 0.3395,\n",
       "          0.1221, 0.5414],\n",
       "         [0.8029, 0.5240, 0.9602, 0.6538, 0.7380, 0.2777, 0.7222, 0.1145,\n",
       "          0.3968, 0.8728],\n",
       "         [0.3589, 0.6344, 0.2686, 0.1875, 0.0984, 0.3574, 0.9459, 0.8397,\n",
       "          0.3699, 0.3986],\n",
       "         [0.4699, 0.2963, 0.8788, 0.4755, 0.6782, 0.2221, 0.7155, 0.3532,\n",
       "          0.9523, 0.8374],\n",
       "         [0.5341, 0.0981, 0.9254, 0.5982, 0.6800, 0.7451, 0.9903, 0.9773,\n",
       "          0.2839, 0.7034],\n",
       "         [0.7285, 0.4876, 0.9224, 0.8173, 0.9691, 0.0014, 0.1209, 0.7442,\n",
       "          0.1426, 0.0013],\n",
       "         [0.3065, 0.2051, 0.3242, 0.5386, 0.6114, 0.6819, 0.8317, 0.4335,\n",
       "          0.3170, 0.3617],\n",
       "         [0.9782, 0.4438, 0.5329, 0.4557, 0.5822, 0.0481, 0.0756, 0.6758,\n",
       "          0.6475, 0.5346],\n",
       "         [0.1220, 0.3005, 0.8038, 0.6490, 0.4036, 0.0577, 0.1203, 0.3068,\n",
       "          0.9006, 0.4561]],\n",
       "\n",
       "        [[0.7029, 0.5593, 0.5881, 0.0828, 0.2030, 0.7371, 0.2469, 0.5738,\n",
       "          0.9910, 0.0026],\n",
       "         [0.2306, 0.0068, 0.2487, 0.6105, 0.3018, 0.2748, 0.0819, 0.9429,\n",
       "          0.9020, 0.0849],\n",
       "         [0.6995, 0.2416, 0.8721, 0.7601, 0.3520, 0.6358, 0.8327, 0.7499,\n",
       "          0.3199, 0.7206],\n",
       "         [0.6006, 0.7915, 0.5230, 0.1932, 0.4729, 0.5599, 0.7171, 0.0446,\n",
       "          0.8328, 0.5968],\n",
       "         [0.3732, 0.8351, 0.0115, 0.3617, 0.0092, 0.8892, 0.2646, 0.3434,\n",
       "          0.2271, 0.4168],\n",
       "         [0.8131, 0.4966, 0.7466, 0.4852, 0.0593, 0.4421, 0.3850, 0.3177,\n",
       "          0.2237, 0.5906],\n",
       "         [0.7268, 0.8195, 0.9649, 0.2143, 0.7975, 0.7734, 0.2763, 0.8084,\n",
       "          0.4080, 0.5180],\n",
       "         [0.1998, 0.4178, 0.9064, 0.0931, 0.7984, 0.5056, 0.7181, 0.0652,\n",
       "          0.2887, 0.9022],\n",
       "         [0.9667, 0.6458, 0.3336, 0.2881, 0.0637, 0.5929, 0.7439, 0.8644,\n",
       "          0.2502, 0.3373],\n",
       "         [0.8406, 0.5285, 0.4535, 0.7028, 0.1295, 0.9264, 0.4381, 0.1149,\n",
       "          0.6284, 0.3375]],\n",
       "\n",
       "        [[0.3471, 0.1499, 0.5704, 0.1895, 0.7050, 0.9538, 0.6147, 0.0790,\n",
       "          0.9073, 0.0913],\n",
       "         [0.5834, 0.0928, 0.8381, 0.6374, 0.6150, 0.5342, 0.7779, 0.9145,\n",
       "          0.3290, 0.0939],\n",
       "         [0.9172, 0.3408, 0.2212, 0.5804, 0.4136, 0.3729, 0.6449, 0.6906,\n",
       "          0.9385, 0.7885],\n",
       "         [0.4719, 0.1886, 0.3343, 0.8611, 0.3032, 0.0498, 0.8599, 0.3818,\n",
       "          0.9859, 0.0909],\n",
       "         [0.9410, 0.9026, 0.2240, 0.1923, 0.0838, 0.7401, 0.4349, 0.9808,\n",
       "          0.6984, 0.5935],\n",
       "         [0.9300, 0.4600, 0.4461, 0.2365, 0.6126, 0.5887, 0.1040, 0.2086,\n",
       "          0.4665, 0.8307],\n",
       "         [0.4647, 0.2065, 0.0729, 0.6123, 0.4102, 0.7505, 0.3082, 0.0069,\n",
       "          0.7791, 0.6496],\n",
       "         [0.2482, 0.7872, 0.0437, 0.6542, 0.3409, 0.8539, 0.1076, 0.7073,\n",
       "          0.7072, 0.3734],\n",
       "         [0.0511, 0.8548, 0.0413, 0.8131, 0.5327, 0.1308, 0.8297, 0.3143,\n",
       "          0.6961, 0.9165],\n",
       "         [0.2503, 0.1715, 0.3715, 0.2957, 0.5346, 0.9475, 0.5442, 0.0449,\n",
       "          0.7775, 0.6508]]])"
      ]
     },
     "execution_count": 36,
     "metadata": {},
     "output_type": "execute_result"
    }
   ],
   "source": [
    "# create a random tensor of size (3,4)\n",
    "\n",
    "random_tensor = torch.rand(5,10,10)\n",
    "random_tensor"
   ]
  },
  {
   "cell_type": "code",
   "execution_count": 38,
   "id": "ba299848-71ae-49a7-b247-b8360cfc6ad0",
   "metadata": {},
   "outputs": [
    {
     "data": {
      "text/plain": [
       "torch.Size([5, 10, 10])"
      ]
     },
     "execution_count": 38,
     "metadata": {},
     "output_type": "execute_result"
    }
   ],
   "source": [
    "random_tensor.ndim\n",
    "random_tensor.shape"
   ]
  },
  {
   "cell_type": "code",
   "execution_count": 35,
   "id": "0d50f84c-b8c3-4f74-8f64-1682f1bcb77e",
   "metadata": {},
   "outputs": [
    {
     "data": {
      "text/plain": [
       "(torch.Size([3, 224, 224]), 3)"
      ]
     },
     "execution_count": 35,
     "metadata": {},
     "output_type": "execute_result"
    }
   ],
   "source": [
    "# create an random tensor with similar to shape of image tensor\n",
    "\n",
    "random_image_tensor = torch.rand(size=(3, 224, 224)) # color channel(RGB), height and width mostly recommended way \n",
    "random_image_tensor.shape, random_image_tensor.ndim"
   ]
  },
  {
   "cell_type": "markdown",
   "id": "2f8c7cc3-8048-43ea-9e47-fc9aa743bb7f",
   "metadata": {},
   "source": [
    "### zeros and ones "
   ]
  },
  {
   "cell_type": "code",
   "execution_count": 40,
   "id": "d59721de-0716-4709-84cc-473ece346c01",
   "metadata": {},
   "outputs": [
    {
     "data": {
      "text/plain": [
       "tensor([[0., 0., 0., 0., 0.],\n",
       "        [0., 0., 0., 0., 0.],\n",
       "        [0., 0., 0., 0., 0.],\n",
       "        [0., 0., 0., 0., 0.],\n",
       "        [0., 0., 0., 0., 0.]])"
      ]
     },
     "execution_count": 40,
     "metadata": {},
     "output_type": "execute_result"
    }
   ],
   "source": [
    "zeros = torch.zeros(size=(5,5))\n",
    "zeros"
   ]
  },
  {
   "cell_type": "code",
   "execution_count": 41,
   "id": "53c0099b-fc0f-47bd-99b4-8015a3122a17",
   "metadata": {},
   "outputs": [
    {
     "data": {
      "text/plain": [
       "tensor([[1., 1., 1., 1., 1.],\n",
       "        [1., 1., 1., 1., 1.],\n",
       "        [1., 1., 1., 1., 1.],\n",
       "        [1., 1., 1., 1., 1.],\n",
       "        [1., 1., 1., 1., 1.]])"
      ]
     },
     "execution_count": 41,
     "metadata": {},
     "output_type": "execute_result"
    }
   ],
   "source": [
    "ones = torch.ones(size=(5,5))\n",
    "ones"
   ]
  },
  {
   "cell_type": "code",
   "execution_count": 42,
   "id": "3379d907-4069-46e3-b23b-30990ebef628",
   "metadata": {},
   "outputs": [
    {
     "data": {
      "text/plain": [
       "torch.float32"
      ]
     },
     "execution_count": 42,
     "metadata": {},
     "output_type": "execute_result"
    }
   ],
   "source": [
    "ones.dtype"
   ]
  },
  {
   "cell_type": "markdown",
   "id": "3ffec2e0-650e-4698-8578-b7f94a58450c",
   "metadata": {},
   "source": [
    "### Creating a range of tensors and tensor like"
   ]
  },
  {
   "cell_type": "code",
   "execution_count": 46,
   "id": "b3917246-b255-4f8f-9a9d-011852f2fdd0",
   "metadata": {},
   "outputs": [
    {
     "data": {
      "text/plain": [
       "tensor([ 1,  2,  3,  4,  5,  6,  7,  8,  9, 10])"
      ]
     },
     "execution_count": 46,
     "metadata": {},
     "output_type": "execute_result"
    }
   ],
   "source": [
    "onetoten = torch.arange(start=1, end=11, step=1)\n",
    "onetoten"
   ]
  },
  {
   "cell_type": "code",
   "execution_count": 47,
   "id": "b8731d60-ed3f-4ed2-aa9d-1643d7e4d8b1",
   "metadata": {},
   "outputs": [
    {
     "data": {
      "text/plain": [
       "tensor([0, 0, 0, 0, 0, 0, 0, 0, 0, 0])"
      ]
     },
     "execution_count": 47,
     "metadata": {},
     "output_type": "execute_result"
    }
   ],
   "source": [
    "# Creating tensors like\n",
    "ten_zeros = torch.zeros_like(input=onetoten)\n",
    "ten_zeros"
   ]
  },
  {
   "cell_type": "markdown",
   "id": "d3e0eee8-d892-43e9-bc22-e46eb92a2a26",
   "metadata": {},
   "source": [
    "### Tensor Datatypes\n",
    "\n",
    "Note : Tensor datatypes is one of the 3 big errors you will run into pytorch and deep learning\n",
    "1. tensors not right datatype\n",
    "2. tensors not right shape\n",
    "3. tensors not on the right device"
   ]
  },
  {
   "cell_type": "code",
   "execution_count": 55,
   "id": "f2840fda-7c54-43e4-8ae9-78ff6cadbbef",
   "metadata": {},
   "outputs": [
    {
     "name": "stdout",
     "output_type": "stream",
     "text": [
      "tensor([3., 6., 9.])\n"
     ]
    },
    {
     "data": {
      "text/plain": [
       "torch.float32"
      ]
     },
     "execution_count": 55,
     "metadata": {},
     "output_type": "execute_result"
    }
   ],
   "source": [
    "float_32_tensor = torch.tensor([3.0, 6.0, 9.0], dtype=None,\n",
    "                                                device=None,\n",
    "                                                requires_grad=False)\n",
    "print(float_32_tensor)\n",
    "float_32_tensor.dtype"
   ]
  },
  {
   "cell_type": "code",
   "execution_count": 56,
   "id": "3f743b8f-53b6-4a37-9e75-9bc7fc35d6b7",
   "metadata": {},
   "outputs": [
    {
     "data": {
      "text/plain": [
       "tensor([3., 6., 9.], dtype=torch.float16)"
      ]
     },
     "execution_count": 56,
     "metadata": {},
     "output_type": "execute_result"
    }
   ],
   "source": [
    "float_16 = float_32_tensor.type(torch.float16)\n",
    "float_16"
   ]
  },
  {
   "cell_type": "code",
   "execution_count": 57,
   "id": "7197394d-c8db-4b2e-be58-53ea1dbf0478",
   "metadata": {},
   "outputs": [
    {
     "data": {
      "text/plain": [
       "tensor([ 9., 36., 81.])"
      ]
     },
     "execution_count": 57,
     "metadata": {},
     "output_type": "execute_result"
    }
   ],
   "source": [
    "float_16 * float_32_tensor"
   ]
  },
  {
   "cell_type": "code",
   "execution_count": 58,
   "id": "702a99be-3903-49ad-8573-15e9a3879a62",
   "metadata": {},
   "outputs": [
    {
     "data": {
      "text/plain": [
       "tensor([3, 6, 9])"
      ]
     },
     "execution_count": 58,
     "metadata": {},
     "output_type": "execute_result"
    }
   ],
   "source": [
    "int_32_tensor = torch.tensor([3,6,9], dtype=torch.int64)\n",
    "int_32_tensor"
   ]
  },
  {
   "cell_type": "code",
   "execution_count": 59,
   "id": "ec8edbd3-fe4c-4e4e-92bf-143ce5169508",
   "metadata": {},
   "outputs": [
    {
     "data": {
      "text/plain": [
       "tensor([ 9., 36., 81.], dtype=torch.float16)"
      ]
     },
     "execution_count": 59,
     "metadata": {},
     "output_type": "execute_result"
    }
   ],
   "source": [
    "float_16 * int_32_tensor"
   ]
  },
  {
   "cell_type": "markdown",
   "id": "2639ed38-d328-4fe6-9785-0bd7c4f1e182",
   "metadata": {},
   "source": [
    "### GEtting informations from Tensors\n",
    "1. tensors not right datatype - to do get datatype from tensor can use 'tensor.dtype'\n",
    "2. tensors not right shape - to get shape from a tensor can use 'tensor.shape'\n",
    "3. tensors not on the right device - to get device from tensor can use 'tensor.device'"
   ]
  },
  {
   "cell_type": "code",
   "execution_count": 65,
   "id": "b2d891af-4f71-439f-b4a4-7b2d88a53b64",
   "metadata": {},
   "outputs": [
    {
     "data": {
      "text/plain": [
       "tensor([[0.9478, 0.8018, 0.5537, 0.0781],\n",
       "        [0.7529, 0.6548, 0.2231, 0.0815],\n",
       "        [0.7266, 0.5347, 0.4214, 0.5557]], dtype=torch.float16)"
      ]
     },
     "execution_count": 65,
     "metadata": {},
     "output_type": "execute_result"
    }
   ],
   "source": [
    "some_tensor = torch.rand(3,4, dtype=torch.float16,\n",
    "                              device=None,\n",
    "                              requires_grad=False)\n",
    "some_tensor"
   ]
  },
  {
   "cell_type": "code",
   "execution_count": 66,
   "id": "0ae64864-5937-4d4b-8ced-a16849a123ba",
   "metadata": {},
   "outputs": [
    {
     "name": "stdout",
     "output_type": "stream",
     "text": [
      "tensor([[0.9478, 0.8018, 0.5537, 0.0781],\n",
      "        [0.7529, 0.6548, 0.2231, 0.0815],\n",
      "        [0.7266, 0.5347, 0.4214, 0.5557]], dtype=torch.float16)\n",
      "Shape of tensor: torch.Size([3, 4])\n",
      "Datatype of tensor: torch.float16\n",
      "Device tensor is stored on: cpu\n"
     ]
    }
   ],
   "source": [
    "\n",
    "\n",
    "# Find out details about it\n",
    "print(some_tensor)\n",
    "print(f\"Shape of tensor: {some_tensor.shape}\")\n",
    "print(f\"Datatype of tensor: {some_tensor.dtype}\")\n",
    "print(f\"Device tensor is stored on: {some_tensor.device}\") # will default to CPU"
   ]
  },
  {
   "cell_type": "markdown",
   "id": "9c3165e0-67d1-4849-9f81-24f05487d86c",
   "metadata": {},
   "source": [
    "### Manupulating Tensors (Tensor Operations)\n",
    "Tensor operation include:\n",
    "Addition\n",
    "Substraction\n",
    "Multiplication (element-wise)\n",
    "Division\n",
    "Matrix multiplication"
   ]
  },
  {
   "cell_type": "code",
   "execution_count": 68,
   "id": "de152a31-68e8-4933-b4ee-c4fac6d6d588",
   "metadata": {},
   "outputs": [
    {
     "data": {
      "text/plain": [
       "tensor([11, 12, 13])"
      ]
     },
     "execution_count": 68,
     "metadata": {},
     "output_type": "execute_result"
    }
   ],
   "source": [
    "tensor = torch.tensor([1, 2, 3])\n",
    "tensor + 10"
   ]
  },
  {
   "cell_type": "code",
   "execution_count": null,
   "id": "00d22be4-ea9a-4663-a60a-d2c382f3d6f1",
   "metadata": {},
   "outputs": [],
   "source": []
  }
 ],
 "metadata": {
  "kernelspec": {
   "display_name": "Python 3 (ipykernel)",
   "language": "python",
   "name": "python3"
  },
  "language_info": {
   "codemirror_mode": {
    "name": "ipython",
    "version": 3
   },
   "file_extension": ".py",
   "mimetype": "text/x-python",
   "name": "python",
   "nbconvert_exporter": "python",
   "pygments_lexer": "ipython3",
   "version": "3.13.1"
  }
 },
 "nbformat": 4,
 "nbformat_minor": 5
}
